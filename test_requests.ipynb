{
 "cells": [
  {
   "cell_type": "code",
   "outputs": [],
   "source": [
    "import requests as r\n",
    "import json\n",
    "import pandas as pd\n",
    "import io\n",
    "import regex as re\n",
    "import csv\n",
    "from requests import HTTPError\n",
    "from dataclasses import dataclass, field\n",
    "import time\n",
    "from datetime import date, timedelta\n",
    "import os"
   ],
   "metadata": {
    "collapsed": false,
    "ExecuteTime": {
     "end_time": "2024-01-31T00:09:00.811497600Z",
     "start_time": "2024-01-31T00:09:00.791032900Z"
    }
   },
   "id": "cc744f6e2dcce982",
   "execution_count": 42
  },
  {
   "cell_type": "markdown",
   "source": [
    "# Класс данных, которые мы хотим получить. По умолчанию временной отрезок это последний год (формат: \"2023-03-28\")\n",
    "По желанию ненужные поля можно просто закомментировать"
   ],
   "metadata": {
    "collapsed": false
   },
   "id": "6235a1e14c388cfc"
  },
  {
   "cell_type": "code",
   "outputs": [],
   "source": [
    "@dataclass\n",
    "class RequestParams:\n",
    "    start_date: str = date.today().replace(year=date.today().year - 1)\n",
    "    end_date: str = date.today() - timedelta(days=1)\n",
    "    fields: list[str] = field(default_factory=lambda: [\n",
    "        'ym:s:visitID',             # Идентификатор визита\n",
    "        'ym:s:clientID',            # Анонимный идентификатор пользователя в браузере (first-party cookies)\n",
    "        'ym:s:date',                # Дата визита\n",
    "        'ym:s:watchIDs',            # Просмотры, которые были в данном визите. Ограничение массива — 500 просмотров\n",
    "        'ym:s:startURL',            # Страница входа\n",
    "        'ym:s:endURL',              # Страница выхода\n",
    "        'ym:s:pageViews',           # Глубина просмотра (детально)\n",
    "        'ym:s:visitDuration',       # Время на сайте (детально)\n",
    "        'ym:s:regionCountry',       # ID страны\n",
    "        'ym:s:regionCity',          # ID города\n",
    "        'ym:s:goalsID',             # Номера целей, достигнутых за данный визит\n",
    "        'ym:s:goalsSerialNumber',   # Порядковые номера достижений цели с конкретным идентификатором\n",
    "        'ym:s:referer',             # Реферер\n",
    "        'ym:s:deviceCategory',      # Тип устройства. Возможные значения: 1 — десктоп, 2 — мобильные телефоны, 3 — планшеты, 4 — TV\n",
    "        'ym:s:operatingSystem',     # Операционная система (детально)\n",
    "        'ym:s:browser',             # Браузер\n",
    "    ])\n",
    "    source: str = 'visits'"
   ],
   "metadata": {
    "collapsed": false,
    "ExecuteTime": {
     "end_time": "2024-01-31T00:09:00.836970Z",
     "start_time": "2024-01-31T00:09:00.825665800Z"
    }
   },
   "id": "1f5bc4be835075e7",
   "execution_count": 43
  },
  {
   "cell_type": "markdown",
   "source": [
    "# Получение готовых логов (Документация яндекс Logs API)\n",
    "\n",
    "1.   Чтобы создать логи, выполните запрос POST https://api-metrika.yandex.net/management/v1/counter/{counterId}/logrequests. Вы можете оценить возможность выгрузки данных с помощью запроса GET https://api-metrika.yandex.net/management/v1/counter/{counterId}/logrequests/evaluate, если не уверены, что его удастся выгрузить.\n",
    "2.   После успешного выполнения запроса на создание логов сохраните request_id и дождитесь подготовки лога. Узнать статус обработки лога можно с помощью запроса GET https://api-metrika.yandex.net/management/v1/counter/{counterId}/logrequest/{requestId}.\n",
    "3. Лог со статусом processed готов к выгрузке. Для выгрузки используйте запрос GET https://api-metrika.yandex.net/management/v1/counter/{counterId}/logrequest/{requestId}/part/{partNumber}/download.\n",
    "\n",
    "4. После выгрузки очистите подготовленные для загрузки логи, чтобы освободить место для следующих запросов. Для этого выполните запрос POST https://api-metrika.yandex.net/management/v1/counter/{counterId}/logrequest/{requestId}/clean.\n",
    "\n",
    "# (В самом конце написаны вызовы запросов раздельно, если это необходимо)\n"
   ],
   "metadata": {
    "collapsed": false
   },
   "id": "d50ab05d13bb949f"
  },
  {
   "cell_type": "code",
   "outputs": [],
   "source": [
    "# STEP 0 is checking possibility of request execution according demand parameters\n",
    "def evaluate_request(counter_id : str, token : str, request_params : RequestParams) -> bool:\n",
    "    url = f'https://api-metrika.yandex.net/management/v1/counter/{counter_id}/logrequests/evaluate'\n",
    "    headers = {'Authorization': f'Bearer {token}'}\n",
    "    fields = {\n",
    "        'date1' : request_params.start_date,\n",
    "        'date2' : request_params.end_date,\n",
    "        'fields' : ','.join(request_params.fields),\n",
    "        'source' : request_params.source\n",
    "    }\n",
    "    response = r.get(url, headers=headers, params=fields)\n",
    "    \n",
    "    if response.status_code != 200:\n",
    "        print(response.text)\n",
    "        # print(f\"date1: {fields['date1']}, date2: {fields['date2']}\")\n",
    "        raise HTTPError(response.status_code)\n",
    "    possible = response.json()['log_request_evaluation']['possible']\n",
    "    if not possible:\n",
    "        print(f'Request with params {request_params} could not be executed')\n",
    "    return possible"
   ],
   "metadata": {
    "collapsed": false,
    "ExecuteTime": {
     "end_time": "2024-01-31T00:09:00.838964100Z",
     "start_time": "2024-01-31T00:09:00.833651100Z"
    }
   },
   "id": "53659e3253e59a47",
   "execution_count": 44
  },
  {
   "cell_type": "code",
   "outputs": [],
   "source": [
    "# STEP 1 is creating log file according to your willingness.\n",
    "# Additional request is provided as https://api-metrika.yandex.net/management/v1/counter/{counter_id}/logrequests/evaluate but anyway you would be notified if smth went wrong\n",
    "\n",
    "# The output is request_id (int/string) according to parameters, which were provided\n",
    "def create_logs(counter_id : str, token : str, request_params: RequestParams) -> str:\n",
    "    url = f'https://api-metrika.yandex.net/management/v1/counter/{counter_id}/logrequests'\n",
    "    headers = {'Authorization': f'Bearer {token}'}\n",
    "    fields = {\n",
    "        'date1' : request_params.start_date,\n",
    "        'date2' : request_params.end_date,\n",
    "        'fields' : ','.join(request_params.fields),\n",
    "        'source' : request_params.source\n",
    "    }\n",
    "    response = r.post(url, headers=headers, params=fields)\n",
    "\n",
    "    if response.status_code != 200:\n",
    "        raise HTTPError(response.status_code)\n",
    "\n",
    "    request_id = response.json()['log_request']['request_id']\n",
    "    return request_id"
   ],
   "metadata": {
    "collapsed": false,
    "ExecuteTime": {
     "end_time": "2024-01-31T00:09:00.871218100Z",
     "start_time": "2024-01-31T00:09:00.840471200Z"
    }
   },
   "id": "a1f433e2bbeee584",
   "execution_count": 45
  },
  {
   "cell_type": "code",
   "outputs": [],
   "source": [
    "# STEP 2 is getting amount of parts which your log was separated. \n",
    "# It could vary from 7 to 120 seconds\n",
    "\n",
    "# The output is amount of parts which data was separated.\n",
    "def get_parts_number(counter_id : str, token : str, request_id : str) -> int :\n",
    "    url = f\"https://api-metrika.yandex.net/management/v1/counter/{counter_id}/logrequest/{request_id}\"\n",
    "    headers = {'Authorization': f'Bearer {token}'}\n",
    "\n",
    "    while True:\n",
    "        response = r.get(url, headers=headers)\n",
    "\n",
    "        if response.status_code != 200:\n",
    "            raise HTTPError(response.status_code)\n",
    "        if response.json()['log_request']['status'] == 'processed':\n",
    "            break\n",
    "        print(f\"Request id: {request_id} Status: {response.json()['log_request']['status']}\")\n",
    "        time.sleep(5)\n",
    "\n",
    "    print(f\"Request id: {request_id} Status: {response.json()['log_request']['status']}\")\n",
    "    part_numbers = len(response.json()['log_request']['parts'])\n",
    "    return part_numbers"
   ],
   "metadata": {
    "collapsed": false,
    "ExecuteTime": {
     "end_time": "2024-01-31T00:09:00.873214300Z",
     "start_time": "2024-01-31T00:09:00.850214200Z"
    }
   },
   "id": "7300c6ca8a66ad8c",
   "execution_count": 46
  },
  {
   "cell_type": "code",
   "outputs": [],
   "source": [
    "def save_to_csv_file(tsv_data, counter_id : str, request_id : str, part : int) -> str:\n",
    "    rows = tsv_data.split(\"\\n\")\n",
    "    filename = f\"output{counter_id}_{request_id}_{part}.csv\"\n",
    "    csv_writer = csv.writer(open(filename, \"w\", newline=\"\", encoding=\"utf-8\"))\n",
    "    for row in rows:\n",
    "        columns = row.split(\"\\t\")\n",
    "        csv_writer.writerow(columns)\n",
    "    print(f\"File {filename} created\")\n",
    "    return filename"
   ],
   "metadata": {
    "collapsed": false,
    "ExecuteTime": {
     "end_time": "2024-01-31T00:09:00.874213Z",
     "start_time": "2024-01-31T00:09:00.853391Z"
    }
   },
   "id": "e5bc9e45e29ac5f3",
   "execution_count": 47
  },
  {
   "cell_type": "code",
   "outputs": [],
   "source": [
    "# STEP 3 is getting all this parts. \n",
    "\n",
    "# Provided data has TSV format, thus we convert and save this data in csv files and altogether.\n",
    "def download_data(counter_id : str, token : str, request_id : str, parts : int, clean_partial_files : bool=True) -> None :\n",
    "    headers = {'Authorization': f'Bearer {token}'}\n",
    "    filenames = []\n",
    "    for part_number in range(parts):\n",
    "        url = f\"https://api-metrika.yandex.net/management/v1/counter/{counter_id}/logrequest/{request_id}/part/{part_number}/download\"\n",
    "        response = r.get(url, headers=headers)\n",
    "        if response.status_code != 200:\n",
    "            raise HTTPError(response.status_code)\n",
    "        filename = save_to_csv_file(response.text, counter_id, request_id, part_number)\n",
    "        filenames.append(filename)\n",
    "        \n",
    "    dfs = []\n",
    "    for filename in filenames:\n",
    "        dfs.append(pd.read_csv(filename))\n",
    "    merged_df = pd.concat(dfs, ignore_index=True)\n",
    "    \n",
    "    filename_all = f'output{counter_id}_{request_id}_all.csv'\n",
    "    merged_df.to_csv(filename_all, index=False)\n",
    "    print(f\"File {filename_all} saved\")\n",
    "    \n",
    "    if clean_partial_files:\n",
    "        for filename in filenames:\n",
    "            os.remove(filename)\n",
    "            print(f\"File {filename} was removed\")"
   ],
   "metadata": {
    "collapsed": false,
    "ExecuteTime": {
     "end_time": "2024-01-31T00:09:00.874213Z",
     "start_time": "2024-01-31T00:09:00.863612600Z"
    }
   },
   "id": "9f94ee7b62da9308",
   "execution_count": 48
  },
  {
   "cell_type": "code",
   "outputs": [],
   "source": [
    "# STEP 4 is cleaning log file if necessary\n",
    "def clean_logfile(counter_id : str, token : str, request_id : str) -> None:\n",
    "    url = f\"https://api-metrika.yandex.net/management/v1/counter/{counter_id}/logrequest/{request_id}/clean\"\n",
    "    headers = {'Authorization': f'Bearer {token}'}\n",
    "    response = r.post(url, headers=headers)\n",
    "    if response.status_code != 200:\n",
    "        raise HTTPError(response.status_code)\n",
    "    print(f\"Log request: {request_id} was successfully removed\")"
   ],
   "metadata": {
    "collapsed": false,
    "ExecuteTime": {
     "end_time": "2024-01-31T00:09:00.876231300Z",
     "start_time": "2024-01-31T00:09:00.869931Z"
    }
   },
   "id": "b235ae68c9810dd4",
   "execution_count": 49
  },
  {
   "cell_type": "code",
   "outputs": [],
   "source": [
    "# COUNTER_ID and TOKEN must be written manually for security purposes \n",
    "def main(counter_id : str, token : str, request_params : RequestParams, clean_log=False, clean_partial_files=True) -> None:\n",
    "    possible = evaluate_request(counter_id, token, request_params)\n",
    "    if not possible:\n",
    "        return\n",
    "    request_id = create_logs(counter_id, token, request_params)\n",
    "    part_numbers =  get_parts_number(counter_id, token, request_id)\n",
    "    download_data(counter_id, token, request_id, part_numbers, clean_partial_files)\n",
    "    if clean_log:\n",
    "        clean_logfile(counter_id, token, request_id)"
   ],
   "metadata": {
    "collapsed": false,
    "ExecuteTime": {
     "end_time": "2024-01-31T00:09:00.907409Z",
     "start_time": "2024-01-31T00:09:00.876231300Z"
    }
   },
   "id": "aeec927a089f50d9",
   "execution_count": 50
  },
  {
   "cell_type": "markdown",
   "source": [
    "# Счетчик и токен решил не хранить здесь. Необходимо их сначала ввести в ячейку ниже"
   ],
   "metadata": {
    "collapsed": false
   },
   "id": "d4634fb745f97ac2"
  },
  {
   "cell_type": "code",
   "outputs": [],
   "source": [
    "COUNTER_ID = \"\"\n",
    "TOKEN = \"\"\n",
    "REQUEST_PARAMS = RequestParams()"
   ],
   "metadata": {
    "collapsed": false,
    "ExecuteTime": {
     "end_time": "2024-01-31T00:09:00.907409Z",
     "start_time": "2024-01-31T00:09:00.881386Z"
    }
   },
   "id": "69c1cf4b9f9647a0",
   "execution_count": 51
  },
  {
   "cell_type": "markdown",
   "source": [
    "# Немного о входных данных\n",
    "* **(ШАГ 3)** Алгоритм сохранения данных предполагает предварительное сохранение данных в \n",
    "каждый файл на случай если не хватит памяти соеденить все части за раз, поэтому можно оставить файлы, на которые были разбиты данные (параметр **clean_partial_files=True** по умолчанию)\n",
    "\n",
    "* **(ШАГ 3)** Так как можно получить данные из любого существующего лога со статусом \"processed\" (чтобы 2 минуты не ждать каждый раз для одного и того же запроса), то можно оставить лог неудаленным (**clean_log=True** по умолчанию). \n"
   ],
   "metadata": {
    "collapsed": false
   },
   "id": "66dd8d608628d4b0"
  },
  {
   "cell_type": "code",
   "outputs": [
    {
     "name": "stdout",
     "output_type": "stream",
     "text": [
      "{\n",
      "  \"errors\" : [ {\n",
      "    \"error_type\" : \"unauthorized\",\n",
      "    \"message\" : \"Неавторизованный пользователь\"\n",
      "  } ],\n",
      "  \"code\" : 401,\n",
      "  \"message\" : \"Неавторизованный пользователь\"\n",
      "}\n"
     ]
    },
    {
     "ename": "HTTPError",
     "evalue": "401",
     "output_type": "error",
     "traceback": [
      "\u001B[1;31m---------------------------------------------------------------------------\u001B[0m",
      "\u001B[1;31mHTTPError\u001B[0m                                 Traceback (most recent call last)",
      "Cell \u001B[1;32mIn[52], line 1\u001B[0m\n\u001B[1;32m----> 1\u001B[0m main(counter_id\u001B[38;5;241m=\u001B[39mCOUNTER_ID, \n\u001B[0;32m      2\u001B[0m      token\u001B[38;5;241m=\u001B[39mTOKEN, \n\u001B[0;32m      3\u001B[0m      request_params\u001B[38;5;241m=\u001B[39mREQUEST_PARAMS, \n\u001B[0;32m      4\u001B[0m      clean_log\u001B[38;5;241m=\u001B[39m\u001B[38;5;28;01mTrue\u001B[39;00m, \n\u001B[0;32m      5\u001B[0m      clean_partial_files\u001B[38;5;241m=\u001B[39m\u001B[38;5;28;01mTrue\u001B[39;00m)\n",
      "Cell \u001B[1;32mIn[50], line 3\u001B[0m, in \u001B[0;36mmain\u001B[1;34m(counter_id, token, request_params, clean_log, clean_partial_files)\u001B[0m\n\u001B[0;32m      2\u001B[0m \u001B[38;5;28;01mdef\u001B[39;00m \u001B[38;5;21mmain\u001B[39m(counter_id : \u001B[38;5;28mstr\u001B[39m, token : \u001B[38;5;28mstr\u001B[39m, request_params : RequestParams, clean_log\u001B[38;5;241m=\u001B[39m\u001B[38;5;28;01mFalse\u001B[39;00m, clean_partial_files\u001B[38;5;241m=\u001B[39m\u001B[38;5;28;01mTrue\u001B[39;00m) \u001B[38;5;241m-\u001B[39m\u001B[38;5;241m>\u001B[39m \u001B[38;5;28;01mNone\u001B[39;00m:\n\u001B[1;32m----> 3\u001B[0m     possible \u001B[38;5;241m=\u001B[39m evaluate_request(counter_id, token, request_params)\n\u001B[0;32m      4\u001B[0m     \u001B[38;5;28;01mif\u001B[39;00m \u001B[38;5;129;01mnot\u001B[39;00m possible:\n\u001B[0;32m      5\u001B[0m         \u001B[38;5;28;01mreturn\u001B[39;00m\n",
      "Cell \u001B[1;32mIn[44], line 16\u001B[0m, in \u001B[0;36mevaluate_request\u001B[1;34m(counter_id, token, request_params)\u001B[0m\n\u001B[0;32m     14\u001B[0m     \u001B[38;5;28mprint\u001B[39m(response\u001B[38;5;241m.\u001B[39mtext)\n\u001B[0;32m     15\u001B[0m     \u001B[38;5;66;03m# print(f\"date1: {fields['date1']}, date2: {fields['date2']}\")\u001B[39;00m\n\u001B[1;32m---> 16\u001B[0m     \u001B[38;5;28;01mraise\u001B[39;00m HTTPError(response\u001B[38;5;241m.\u001B[39mstatus_code)\n\u001B[0;32m     17\u001B[0m possible \u001B[38;5;241m=\u001B[39m response\u001B[38;5;241m.\u001B[39mjson()[\u001B[38;5;124m'\u001B[39m\u001B[38;5;124mlog_request_evaluation\u001B[39m\u001B[38;5;124m'\u001B[39m][\u001B[38;5;124m'\u001B[39m\u001B[38;5;124mpossible\u001B[39m\u001B[38;5;124m'\u001B[39m]\n\u001B[0;32m     18\u001B[0m \u001B[38;5;28;01mif\u001B[39;00m \u001B[38;5;129;01mnot\u001B[39;00m possible:\n",
      "\u001B[1;31mHTTPError\u001B[0m: 401"
     ]
    }
   ],
   "source": [
    "main(counter_id=COUNTER_ID, \n",
    "     token=TOKEN, \n",
    "     request_params=REQUEST_PARAMS, \n",
    "     clean_log=True, \n",
    "     clean_partial_files=True)"
   ],
   "metadata": {
    "collapsed": false,
    "ExecuteTime": {
     "end_time": "2024-01-31T00:09:01.578241100Z",
     "start_time": "2024-01-31T00:09:00.886465300Z"
    }
   },
   "id": "6c4eccd6d38aab7c",
   "execution_count": 52
  },
  {
   "cell_type": "markdown",
   "source": [
    "# Шаг 1. Проверка"
   ],
   "metadata": {
    "collapsed": false
   },
   "id": "b85cc3813b2f9309"
  },
  {
   "cell_type": "code",
   "outputs": [
    {
     "name": "stdout",
     "output_type": "stream",
     "text": [
      "{\n",
      "  \"errors\" : [ {\n",
      "    \"error_type\" : \"unauthorized\",\n",
      "    \"message\" : \"Неавторизованный пользователь\"\n",
      "  } ],\n",
      "  \"code\" : 401,\n",
      "  \"message\" : \"Неавторизованный пользователь\"\n",
      "}\n"
     ]
    },
    {
     "ename": "HTTPError",
     "evalue": "401",
     "output_type": "error",
     "traceback": [
      "\u001B[1;31m---------------------------------------------------------------------------\u001B[0m",
      "\u001B[1;31mHTTPError\u001B[0m                                 Traceback (most recent call last)",
      "Cell \u001B[1;32mIn[53], line 1\u001B[0m\n\u001B[1;32m----> 1\u001B[0m evaluate_request(counter_id\u001B[38;5;241m=\u001B[39mCOUNTER_ID,\n\u001B[0;32m      2\u001B[0m                  token\u001B[38;5;241m=\u001B[39mTOKEN, \n\u001B[0;32m      3\u001B[0m                  request_params\u001B[38;5;241m=\u001B[39mREQUEST_PARAMS)\n",
      "Cell \u001B[1;32mIn[44], line 16\u001B[0m, in \u001B[0;36mevaluate_request\u001B[1;34m(counter_id, token, request_params)\u001B[0m\n\u001B[0;32m     14\u001B[0m     \u001B[38;5;28mprint\u001B[39m(response\u001B[38;5;241m.\u001B[39mtext)\n\u001B[0;32m     15\u001B[0m     \u001B[38;5;66;03m# print(f\"date1: {fields['date1']}, date2: {fields['date2']}\")\u001B[39;00m\n\u001B[1;32m---> 16\u001B[0m     \u001B[38;5;28;01mraise\u001B[39;00m HTTPError(response\u001B[38;5;241m.\u001B[39mstatus_code)\n\u001B[0;32m     17\u001B[0m possible \u001B[38;5;241m=\u001B[39m response\u001B[38;5;241m.\u001B[39mjson()[\u001B[38;5;124m'\u001B[39m\u001B[38;5;124mlog_request_evaluation\u001B[39m\u001B[38;5;124m'\u001B[39m][\u001B[38;5;124m'\u001B[39m\u001B[38;5;124mpossible\u001B[39m\u001B[38;5;124m'\u001B[39m]\n\u001B[0;32m     18\u001B[0m \u001B[38;5;28;01mif\u001B[39;00m \u001B[38;5;129;01mnot\u001B[39;00m possible:\n",
      "\u001B[1;31mHTTPError\u001B[0m: 401"
     ]
    }
   ],
   "source": [
    "evaluate_request(counter_id=COUNTER_ID,\n",
    "                 token=TOKEN, \n",
    "                 request_params=REQUEST_PARAMS)"
   ],
   "metadata": {
    "collapsed": false,
    "ExecuteTime": {
     "end_time": "2024-01-31T00:09:58.038999400Z",
     "start_time": "2024-01-31T00:09:57.537235300Z"
    }
   },
   "id": "58f9618a6492348",
   "execution_count": 53
  },
  {
   "cell_type": "markdown",
   "source": [
    "# Шаг 1. Создание лога"
   ],
   "metadata": {
    "collapsed": false
   },
   "id": "7090dfb3cedcd89a"
  },
  {
   "cell_type": "code",
   "outputs": [
    {
     "ename": "HTTPError",
     "evalue": "401",
     "output_type": "error",
     "traceback": [
      "\u001B[1;31m---------------------------------------------------------------------------\u001B[0m",
      "\u001B[1;31mHTTPError\u001B[0m                                 Traceback (most recent call last)",
      "Cell \u001B[1;32mIn[54], line 1\u001B[0m\n\u001B[1;32m----> 1\u001B[0m request_id_test \u001B[38;5;241m=\u001B[39m create_logs(counter_id\u001B[38;5;241m=\u001B[39mCOUNTER_ID, \n\u001B[0;32m      2\u001B[0m                          token\u001B[38;5;241m=\u001B[39mTOKEN, \n\u001B[0;32m      3\u001B[0m                          request_params\u001B[38;5;241m=\u001B[39mREQUEST_PARAMS)\n",
      "Cell \u001B[1;32mIn[45], line 17\u001B[0m, in \u001B[0;36mcreate_logs\u001B[1;34m(counter_id, token, request_params)\u001B[0m\n\u001B[0;32m     14\u001B[0m response \u001B[38;5;241m=\u001B[39m r\u001B[38;5;241m.\u001B[39mpost(url, headers\u001B[38;5;241m=\u001B[39mheaders, params\u001B[38;5;241m=\u001B[39mfields)\n\u001B[0;32m     16\u001B[0m \u001B[38;5;28;01mif\u001B[39;00m response\u001B[38;5;241m.\u001B[39mstatus_code \u001B[38;5;241m!=\u001B[39m \u001B[38;5;241m200\u001B[39m:\n\u001B[1;32m---> 17\u001B[0m     \u001B[38;5;28;01mraise\u001B[39;00m HTTPError(response\u001B[38;5;241m.\u001B[39mstatus_code)\n\u001B[0;32m     19\u001B[0m request_id \u001B[38;5;241m=\u001B[39m response\u001B[38;5;241m.\u001B[39mjson()[\u001B[38;5;124m'\u001B[39m\u001B[38;5;124mlog_request\u001B[39m\u001B[38;5;124m'\u001B[39m][\u001B[38;5;124m'\u001B[39m\u001B[38;5;124mrequest_id\u001B[39m\u001B[38;5;124m'\u001B[39m]\n\u001B[0;32m     20\u001B[0m \u001B[38;5;28;01mreturn\u001B[39;00m request_id\n",
      "\u001B[1;31mHTTPError\u001B[0m: 401"
     ]
    }
   ],
   "source": [
    "request_id_test = create_logs(counter_id=COUNTER_ID, \n",
    "                         token=TOKEN, \n",
    "                         request_params=REQUEST_PARAMS)"
   ],
   "metadata": {
    "collapsed": false,
    "ExecuteTime": {
     "end_time": "2024-01-31T00:09:59.433429900Z",
     "start_time": "2024-01-31T00:09:58.746262700Z"
    }
   },
   "id": "8d78ad74815723cc",
   "execution_count": 54
  },
  {
   "cell_type": "markdown",
   "source": [
    "# Шаг 2. Получение количества частей, на которые разбиты данные"
   ],
   "metadata": {
    "collapsed": false
   },
   "id": "df7daecbeecd05ee"
  },
  {
   "cell_type": "code",
   "outputs": [
    {
     "ename": "NameError",
     "evalue": "name 'request_id_test' is not defined",
     "output_type": "error",
     "traceback": [
      "\u001B[1;31m---------------------------------------------------------------------------\u001B[0m",
      "\u001B[1;31mNameError\u001B[0m                                 Traceback (most recent call last)",
      "Cell \u001B[1;32mIn[55], line 3\u001B[0m\n\u001B[0;32m      1\u001B[0m part_numbers_test \u001B[38;5;241m=\u001B[39m  get_parts_number(counter_id\u001B[38;5;241m=\u001B[39mCOUNTER_ID, \n\u001B[0;32m      2\u001B[0m                                  token\u001B[38;5;241m=\u001B[39mTOKEN, \n\u001B[1;32m----> 3\u001B[0m                                  request_id\u001B[38;5;241m=\u001B[39mrequest_id_test)\n",
      "\u001B[1;31mNameError\u001B[0m: name 'request_id_test' is not defined"
     ]
    }
   ],
   "source": [
    "part_numbers_test =  get_parts_number(counter_id=COUNTER_ID, \n",
    "                                 token=TOKEN, \n",
    "                                 request_id=request_id_test)"
   ],
   "metadata": {
    "collapsed": false,
    "ExecuteTime": {
     "end_time": "2024-01-31T00:09:59.936549400Z",
     "start_time": "2024-01-31T00:09:59.911868100Z"
    }
   },
   "id": "945287547488ed88",
   "execution_count": 55
  },
  {
   "cell_type": "markdown",
   "source": [
    "# Шаг 3. Скачать данные"
   ],
   "metadata": {
    "collapsed": false
   },
   "id": "31c5a11982646057"
  },
  {
   "cell_type": "code",
   "outputs": [
    {
     "ename": "NameError",
     "evalue": "name 'request_id_test' is not defined",
     "output_type": "error",
     "traceback": [
      "\u001B[1;31m---------------------------------------------------------------------------\u001B[0m",
      "\u001B[1;31mNameError\u001B[0m                                 Traceback (most recent call last)",
      "Cell \u001B[1;32mIn[56], line 3\u001B[0m\n\u001B[0;32m      1\u001B[0m download_data(counter_id\u001B[38;5;241m=\u001B[39mCOUNTER_ID, \n\u001B[0;32m      2\u001B[0m               token\u001B[38;5;241m=\u001B[39mTOKEN, \n\u001B[1;32m----> 3\u001B[0m               request_id\u001B[38;5;241m=\u001B[39mrequest_id_test, \n\u001B[0;32m      4\u001B[0m               parts\u001B[38;5;241m=\u001B[39mpart_numbers_test,\n\u001B[0;32m      5\u001B[0m               clean_partial_files\u001B[38;5;241m=\u001B[39m\u001B[38;5;28;01mTrue\u001B[39;00m)\n",
      "\u001B[1;31mNameError\u001B[0m: name 'request_id_test' is not defined"
     ]
    }
   ],
   "source": [
    "download_data(counter_id=COUNTER_ID, \n",
    "              token=TOKEN, \n",
    "              request_id=request_id_test, \n",
    "              parts=part_numbers_test,\n",
    "              clean_partial_files=True)"
   ],
   "metadata": {
    "collapsed": false,
    "ExecuteTime": {
     "end_time": "2024-01-31T00:10:02.247439200Z",
     "start_time": "2024-01-31T00:10:02.223754Z"
    }
   },
   "id": "4929540473fc9c7b",
   "execution_count": 56
  },
  {
   "cell_type": "markdown",
   "source": [
    "# Шаг 4. Удалить лог из Яндекс Метрики"
   ],
   "metadata": {
    "collapsed": false
   },
   "id": "f2659be546254a7d"
  },
  {
   "cell_type": "code",
   "outputs": [
    {
     "ename": "NameError",
     "evalue": "name 'request_id_test' is not defined",
     "output_type": "error",
     "traceback": [
      "\u001B[1;31m---------------------------------------------------------------------------\u001B[0m",
      "\u001B[1;31mNameError\u001B[0m                                 Traceback (most recent call last)",
      "Cell \u001B[1;32mIn[57], line 3\u001B[0m\n\u001B[0;32m      1\u001B[0m clean_logfile(counter_id\u001B[38;5;241m=\u001B[39mCOUNTER_ID, \n\u001B[0;32m      2\u001B[0m               token\u001B[38;5;241m=\u001B[39mTOKEN, \n\u001B[1;32m----> 3\u001B[0m               request_id\u001B[38;5;241m=\u001B[39mrequest_id_test)\n",
      "\u001B[1;31mNameError\u001B[0m: name 'request_id_test' is not defined"
     ]
    }
   ],
   "source": [
    "clean_logfile(counter_id=COUNTER_ID, \n",
    "              token=TOKEN, \n",
    "              request_id=request_id_test)"
   ],
   "metadata": {
    "collapsed": false,
    "ExecuteTime": {
     "end_time": "2024-01-31T00:10:03.488598900Z",
     "start_time": "2024-01-31T00:10:03.462625700Z"
    }
   },
   "id": "802407bf0b96a1dc",
   "execution_count": 57
  },
  {
   "cell_type": "code",
   "outputs": [],
   "source": [],
   "metadata": {
    "collapsed": false
   },
   "id": "489718ad0ec990eb"
  }
 ],
 "metadata": {
  "kernelspec": {
   "display_name": "Python 3",
   "language": "python",
   "name": "python3"
  },
  "language_info": {
   "codemirror_mode": {
    "name": "ipython",
    "version": 2
   },
   "file_extension": ".py",
   "mimetype": "text/x-python",
   "name": "python",
   "nbconvert_exporter": "python",
   "pygments_lexer": "ipython2",
   "version": "2.7.6"
  }
 },
 "nbformat": 4,
 "nbformat_minor": 5
}
