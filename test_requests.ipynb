{
 "cells": [
  {
   "cell_type": "code",
   "outputs": [],
   "source": [
    "import requests as r\n",
    "import json\n",
    "import pandas as pd\n",
    "import io\n",
    "import regex as re\n",
    "import csv\n",
    "from requests import HTTPError\n",
    "from dataclasses import dataclass, field\n",
    "import time\n",
    "from datetime import date, timedelta\n",
    "import os"
   ],
   "metadata": {
    "collapsed": false
   },
   "id": "cc744f6e2dcce982",
   "execution_count": null
  },
  {
   "cell_type": "markdown",
   "source": [
    "# Класс данных, которые мы хотим получить. По умолчанию временной отрезок это последний год (формат: \"2023-03-28\")\n",
    "По желанию ненужные поля можно просто закомментировать"
   ],
   "metadata": {
    "collapsed": false
   },
   "id": "6235a1e14c388cfc"
  },
  {
   "cell_type": "code",
   "outputs": [],
   "source": [
    "@dataclass\n",
    "class RequestParams:\n",
    "    start_date: str = date.today().replace(year=date.today().year - 1)\n",
    "    end_date: str = date.today() - timedelta(days=1)\n",
    "    fields: list[str] = field(default_factory=lambda: [\n",
    "        'ym:s:visitID',             # Идентификатор визита\n",
    "        'ym:s:clientID',            # Анонимный идентификатор пользователя в браузере (first-party cookies)\n",
    "        'ym:s:date',                # Дата визита\n",
    "        'ym:s:watchIDs',            # Просмотры, которые были в данном визите. Ограничение массива — 500 просмотров\n",
    "        'ym:s:startURL',            # Страница входа\n",
    "        'ym:s:endURL',              # Страница выхода\n",
    "        'ym:s:pageViews',           # Глубина просмотра (детально)\n",
    "        'ym:s:visitDuration',       # Время на сайте (детально)\n",
    "        'ym:s:regionCountry',       # ID страны\n",
    "        'ym:s:regionCity',          # ID города\n",
    "        'ym:s:goalsID',             # Номера целей, достигнутых за данный визит\n",
    "        'ym:s:goalsSerialNumber',   # Порядковые номера достижений цели с конкретным идентификатором\n",
    "        'ym:s:referer',             # Реферер\n",
    "        'ym:s:deviceCategory',      # Тип устройства. Возможные значения: 1 — десктоп, 2 — мобильные телефоны, 3 — планшеты, 4 — TV\n",
    "        'ym:s:operatingSystem',     # Операционная система (детально)\n",
    "        'ym:s:browser',             # Браузер\n",
    "    ])\n",
    "    source: str = 'visits'"
   ],
   "metadata": {
    "collapsed": false
   },
   "id": "1f5bc4be835075e7",
   "execution_count": null
  },
  {
   "cell_type": "markdown",
   "source": [
    "# Получение готовых логов (Документация яндекс Logs API)\n",
    "\n",
    "1.   Чтобы создать логи, выполните запрос POST https://api-metrika.yandex.net/management/v1/counter/{counterId}/logrequests. Вы можете оценить возможность выгрузки данных с помощью запроса GET https://api-metrika.yandex.net/management/v1/counter/{counterId}/logrequests/evaluate, если не уверены, что его удастся выгрузить.\n",
    "2.   После успешного выполнения запроса на создание логов сохраните request_id и дождитесь подготовки лога. Узнать статус обработки лога можно с помощью запроса GET https://api-metrika.yandex.net/management/v1/counter/{counterId}/logrequest/{requestId}.\n",
    "3. Лог со статусом processed готов к выгрузке. Для выгрузки используйте запрос GET https://api-metrika.yandex.net/management/v1/counter/{counterId}/logrequest/{requestId}/part/{partNumber}/download.\n",
    "\n",
    "4. После выгрузки очистите подготовленные для загрузки логи, чтобы освободить место для следующих запросов. Для этого выполните запрос POST https://api-metrika.yandex.net/management/v1/counter/{counterId}/logrequest/{requestId}/clean.\n",
    "\n",
    "# (В самом конце написаны вызовы запросов раздельно, если это необходимо)\n"
   ],
   "metadata": {
    "collapsed": false
   },
   "id": "d50ab05d13bb949f"
  },
  {
   "cell_type": "code",
   "outputs": [],
   "source": [
    "# STEP 0 is checking possibility of request execution according demand parameters\n",
    "def evaluate_request(counter_id : str, token : str, request_params : RequestParams) -> bool:\n",
    "    url = f'https://api-metrika.yandex.net/management/v1/counter/{counter_id}/logrequests/evaluate'\n",
    "    headers = {'Authorization': f'Bearer {token}'}\n",
    "    fields = {\n",
    "        'date1' : request_params.start_date,\n",
    "        'date2' : request_params.end_date,\n",
    "        'fields' : ','.join(request_params.fields),\n",
    "        'source' : request_params.source\n",
    "    }\n",
    "    response = r.get(url, headers=headers, params=fields)\n",
    "    \n",
    "    if response.status_code != 200:\n",
    "        print(response.text)\n",
    "        # print(f\"date1: {fields['date1']}, date2: {fields['date2']}\")\n",
    "        raise HTTPError(response.status_code)\n",
    "    possible = response.json()['log_request_evaluation']['possible']\n",
    "    if not possible:\n",
    "        print(f'Request with params {request_params} could not be executed')\n",
    "    return possible"
   ],
   "metadata": {
    "collapsed": false
   },
   "id": "53659e3253e59a47",
   "execution_count": null
  },
  {
   "cell_type": "code",
   "outputs": [],
   "source": [
    "# STEP 1 is creating log file according to your willingness.\n",
    "# Additional request is provided as https://api-metrika.yandex.net/management/v1/counter/{counter_id}/logrequests/evaluate but anyway you would be notified if smth went wrong\n",
    "\n",
    "# The output is request_id (int/string) according to parameters, which were provided\n",
    "def create_logs(counter_id : str, token : str, request_params: RequestParams) -> str:\n",
    "    url = f'https://api-metrika.yandex.net/management/v1/counter/{counter_id}/logrequests'\n",
    "    headers = {'Authorization': f'Bearer {token}'}\n",
    "    fields = {\n",
    "        'date1' : request_params.start_date,\n",
    "        'date2' : request_params.end_date,\n",
    "        'fields' : ','.join(request_params.fields),\n",
    "        'source' : request_params.source\n",
    "    }\n",
    "    response = r.post(url, headers=headers, params=fields)\n",
    "\n",
    "    if response.status_code != 200:\n",
    "        raise HTTPError(response.status_code)\n",
    "\n",
    "    request_id = response.json()['log_request']['request_id']\n",
    "    return request_id"
   ],
   "metadata": {
    "collapsed": false
   },
   "id": "a1f433e2bbeee584",
   "execution_count": null
  },
  {
   "cell_type": "code",
   "outputs": [],
   "source": [
    "# STEP 2 is getting amount of parts which your log was separated. \n",
    "# It could vary from 7 to 120 seconds\n",
    "\n",
    "# The output is amount of parts which data was separated.\n",
    "def get_parts_number(counter_id : str, token : str, request_id : str) -> int :\n",
    "    url = f\"https://api-metrika.yandex.net/management/v1/counter/{counter_id}/logrequest/{request_id}\"\n",
    "    headers = {'Authorization': f'Bearer {token}'}\n",
    "\n",
    "    while True:\n",
    "        response = r.get(url, headers=headers)\n",
    "\n",
    "        if response.status_code != 200:\n",
    "            raise HTTPError(response.status_code)\n",
    "        if response.json()['log_request']['status'] == 'processed':\n",
    "            break\n",
    "        print(f\"Request id: {request_id} Status: {response.json()['log_request']['status']}\")\n",
    "        time.sleep(5)\n",
    "\n",
    "    print(f\"Request id: {request_id} Status: {response.json()['log_request']['status']}\")\n",
    "    part_numbers = len(response.json()['log_request']['parts'])\n",
    "    return part_numbers"
   ],
   "metadata": {
    "collapsed": false
   },
   "id": "7300c6ca8a66ad8c",
   "execution_count": null
  },
  {
   "cell_type": "code",
   "outputs": [],
   "source": [
    "def save_to_csv_file(tsv_data, counter_id : str, request_id : str, part : int) -> str:\n",
    "    rows = tsv_data.split(\"\\n\")\n",
    "    filename = f\"output{counter_id}_{request_id}_{part}.csv\"\n",
    "    csv_writer = csv.writer(open(filename, \"w\", newline=\"\", encoding=\"utf-8\"))\n",
    "    for row in rows:\n",
    "        columns = row.split(\"\\t\")\n",
    "        csv_writer.writerow(columns)\n",
    "    print(f\"File {filename} created\")\n",
    "    return filename"
   ],
   "metadata": {
    "collapsed": false
   },
   "id": "e5bc9e45e29ac5f3",
   "execution_count": null
  },
  {
   "cell_type": "code",
   "outputs": [],
   "source": [
    "# STEP 3 is getting all this parts. \n",
    "\n",
    "# Provided data has TSV format, thus we convert and save this data in csv files and altogether.\n",
    "def download_data(counter_id : str, token : str, request_id : str, parts : int, clean_partial_files : bool=True) -> None :\n",
    "    headers = {'Authorization': f'Bearer {token}'}\n",
    "    filenames = []\n",
    "    for part_number in range(parts):\n",
    "        url = f\"https://api-metrika.yandex.net/management/v1/counter/{counter_id}/logrequest/{request_id}/part/{part_number}/download\"\n",
    "        response = r.get(url, headers=headers)\n",
    "        if response.status_code != 200:\n",
    "            raise HTTPError(response.status_code)\n",
    "        filename = save_to_csv_file(response.text, counter_id, request_id, part_number)\n",
    "        filenames.append(filename)\n",
    "        \n",
    "    dfs = []\n",
    "    for filename in filenames:\n",
    "        dfs.append(pd.read_csv(filename))\n",
    "    merged_df = pd.concat(dfs, ignore_index=True)\n",
    "    \n",
    "    filename_all = f'output{counter_id}_{request_id}_all.csv'\n",
    "    merged_df.to_csv(filename_all, index=False)\n",
    "    print(f\"File {filename_all} saved\")\n",
    "    \n",
    "    if clean_partial_files:\n",
    "        for filename in filenames:\n",
    "            os.remove(filename)\n",
    "            print(f\"File {filename} was removed\")"
   ],
   "metadata": {
    "collapsed": false
   },
   "id": "9f94ee7b62da9308",
   "execution_count": null
  },
  {
   "cell_type": "code",
   "outputs": [],
   "source": [
    "# STEP 4 is cleaning log file if necessary\n",
    "def clean_logfile(counter_id : str, token : str, request_id : str) -> None:\n",
    "    url = f\"https://api-metrika.yandex.net/management/v1/counter/{counter_id}/logrequest/{request_id}/clean\"\n",
    "    headers = {'Authorization': f'Bearer {token}'}\n",
    "    response = r.post(url, headers=headers)\n",
    "    if response.status_code != 200:\n",
    "        raise HTTPError(response.status_code)\n",
    "    print(f\"Log request: {request_id} was successfully removed\")"
   ],
   "metadata": {
    "collapsed": false
   },
   "id": "b235ae68c9810dd4",
   "execution_count": null
  },
  {
   "cell_type": "code",
   "outputs": [],
   "source": [
    "# COUNTER_ID and TOKEN must be written manually for security purposes \n",
    "def main(counter_id : str, token : str, request_params : RequestParams, clean_log=False, clean_partial_files=True) -> None:\n",
    "    possible = evaluate_request(counter_id, token, request_params)\n",
    "    if not possible:\n",
    "        return\n",
    "    request_id = create_logs(counter_id, token, request_params)\n",
    "    part_numbers =  get_parts_number(counter_id, token, request_id)\n",
    "    download_data(counter_id, token, request_id, part_numbers, clean_partial_files)\n",
    "    if clean_log:\n",
    "        clean_logfile(counter_id, token, request_id)"
   ],
   "metadata": {
    "collapsed": false
   },
   "id": "aeec927a089f50d9",
   "execution_count": null
  },
  {
   "cell_type": "markdown",
   "source": [
    "# Счетчик и токен решил не хранить здесь. Необходимо их сначала ввести в ячейку ниже"
   ],
   "metadata": {
    "collapsed": false
   },
   "id": "d4634fb745f97ac2"
  },
  {
   "cell_type": "code",
   "outputs": [],
   "source": [
    "COUNTER_ID = \"\"\n",
    "TOKEN = \"\"\n",
    "REQUEST_PARAMS = RequestParams()"
   ],
   "metadata": {
    "collapsed": false
   },
   "id": "69c1cf4b9f9647a0",
   "execution_count": null
  },
  {
   "cell_type": "markdown",
   "source": [
    "# Немного о входных данных\n",
    "* **(ШАГ 3)** Алгоритм сохранения данных предполагает предварительное сохранение данных в \n",
    "каждый файл на случай если не хватит памяти соеденить все части за раз, поэтому можно оставить файлы, на которые были разбиты данные (параметр **clean_partial_files=True** по умолчанию)\n",
    "\n",
    "* **(ШАГ 3)** Так как можно получить данные из любого существующего лога со статусом \"processed\" (чтобы 2 минуты не ждать каждый раз для одного и того же запроса), то можно оставить лог неудаленным (**clean_log=True** по умолчанию). \n"
   ],
   "metadata": {
    "collapsed": false
   },
   "id": "66dd8d608628d4b0"
  },
  {
   "cell_type": "code",
   "outputs": [],
   "source": [
    "main(counter_id=COUNTER_ID, \n",
    "     token=TOKEN, \n",
    "     request_params=REQUEST_PARAMS, \n",
    "     clean_log=True, \n",
    "     clean_partial_files=True)"
   ],
   "metadata": {
    "collapsed": false
   },
   "id": "6c4eccd6d38aab7c",
   "execution_count": null
  },
  {
   "cell_type": "markdown",
   "source": [
    "# Шаг 1. Проверка"
   ],
   "metadata": {
    "collapsed": false
   },
   "id": "b85cc3813b2f9309"
  },
  {
   "cell_type": "code",
   "outputs": [],
   "source": [
    "evaluate_request(counter_id=COUNTER_ID,\n",
    "                 token=TOKEN, \n",
    "                 request_params=REQUEST_PARAMS)"
   ],
   "metadata": {
    "collapsed": false
   },
   "id": "58f9618a6492348",
   "execution_count": null
  },
  {
   "cell_type": "markdown",
   "source": [
    "# Шаг 1. Создание лога"
   ],
   "metadata": {
    "collapsed": false
   },
   "id": "7090dfb3cedcd89a"
  },
  {
   "cell_type": "code",
   "outputs": [],
   "source": [
    "request_id_test = create_logs(counter_id=COUNTER_ID, \n",
    "                         token=TOKEN, \n",
    "                         request_params=REQUEST_PARAMS)"
   ],
   "metadata": {
    "collapsed": false
   },
   "id": "8d78ad74815723cc"
  },
  {
   "cell_type": "markdown",
   "source": [
    "# Шаг 2. Получение количества частей, на которые разбиты данные"
   ],
   "metadata": {
    "collapsed": false
   },
   "id": "df7daecbeecd05ee"
  },
  {
   "cell_type": "code",
   "outputs": [],
   "source": [
    "part_numbers_test =  get_parts_number(counter_id=COUNTER_ID, \n",
    "                                 token=TOKEN, \n",
    "                                 request_id=request_id_test)"
   ],
   "metadata": {
    "collapsed": false
   },
   "id": "945287547488ed88"
  },
  {
   "cell_type": "markdown",
   "source": [
    "# Шаг 3. Скачать данные"
   ],
   "metadata": {
    "collapsed": false
   },
   "id": "31c5a11982646057"
  },
  {
   "cell_type": "code",
   "outputs": [],
   "source": [
    "download_data(counter_id=COUNTER_ID, \n",
    "              token=TOKEN, \n",
    "              request_id=request_id_test, \n",
    "              parts=part_numbers_test,\n",
    "              clean_partial_files=True)"
   ],
   "metadata": {
    "collapsed": false
   },
   "id": "4929540473fc9c7b"
  },
  {
   "cell_type": "markdown",
   "source": [
    "# Шаг 4. Удалить лог из Яндекс Метрики"
   ],
   "metadata": {
    "collapsed": false
   },
   "id": "f2659be546254a7d"
  },
  {
   "cell_type": "code",
   "outputs": [],
   "source": [
    "clean_logfile(counter_id=COUNTER_ID, \n",
    "              token=TOKEN, \n",
    "              request_id=request_id_test)"
   ],
   "metadata": {
    "collapsed": false
   },
   "id": "802407bf0b96a1dc"
  }
 ],
 "metadata": {
  "kernelspec": {
   "display_name": "Python 3",
   "language": "python",
   "name": "python3"
  },
  "language_info": {
   "codemirror_mode": {
    "name": "ipython",
    "version": 2
   },
   "file_extension": ".py",
   "mimetype": "text/x-python",
   "name": "python",
   "nbconvert_exporter": "python",
   "pygments_lexer": "ipython2",
   "version": "2.7.6"
  }
 },
 "nbformat": 4,
 "nbformat_minor": 5
}
